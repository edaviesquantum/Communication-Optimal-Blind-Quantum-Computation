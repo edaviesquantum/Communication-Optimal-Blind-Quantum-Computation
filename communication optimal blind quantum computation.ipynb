{
 "cells": [
  {
   "cell_type": "code",
   "execution_count": 1,
   "id": "1c23cf8e",
   "metadata": {},
   "outputs": [],
   "source": [
    "import numpy as np\n",
    "\n",
    "from qiskit.quantum_info import Clifford, Pauli\n",
    "from qiskit import QuantumCircuit, QuantumRegister\n",
    "from qiskit.circuit.random import random_clifford_circuit\n",
    "\n",
    "from ldpc.mod2 import inverse, kernel, rank, reduced_row_echelon\n",
    "\n",
    "from stim import PauliString, TableauSimulator, Circuit"
   ]
  },
  {
   "cell_type": "code",
   "execution_count": 2,
   "id": "8a4fc0fd",
   "metadata": {},
   "outputs": [],
   "source": [
    "def vec_to_pauli_str(x):\n",
    "    #converts vector into Pauli string\n",
    "        dic = {(0,0):'I', (0,1):'Z', (1,0):'X', (1,1):'Y'}\n",
    "        n = len(x)//2\n",
    "        return ''.join(dic[(x[i], x[n+i])] for i in range(n))\n",
    "\n",
    "def pauli_str_to_vec(x):\n",
    "    #converts pauli string to vector\n",
    "    N = len(x)\n",
    "    ans = [0 for _ in range(2*N)]\n",
    "    for i, char in enumerate(x):\n",
    "        if char in 'XY':\n",
    "              ans[i]=1\n",
    "        if char in 'YZ':\n",
    "            ans[i+N] = 1\n",
    "    return ans \n",
    "\n",
    "def symplectic_form_matrix(n):\n",
    "    J = np.zeros((2*n, 2*n), dtype=np.uint8)\n",
    "    J[:n, n:] = np.eye(n, dtype=np.uint8)\n",
    "    J[n:, :n] = np.eye(n, dtype=np.uint8)\n",
    "    return J\n",
    "\n",
    "def symplectic_product(u,v):\n",
    "     n = len(u)//2\n",
    "     return (sum([u[i]*v[i+n] + u[i+n]*v[i] for i in range(n)]))%2\n",
    "\n",
    "def get_symplectic(cliff):\n",
    "    #obtains symplectic matrix for a clifford gate\n",
    "    return np.array([[1 if x else 0 for x in y ] for y in cliff.symplectic_matrix])\n",
    "\n",
    "def make_qiskit_pauli(x, length = 0):\n",
    "    if type(x) == str:\n",
    "        if x[0] in '+-':\n",
    "            padding = max(0,length -len(x)-1)\n",
    "            return Pauli(x[0]+ 'I'*(padding) + x[1:][::-1])\n",
    "        padding = max(0,length -len(x))\n",
    "        return Pauli('I'*padding + x[::-1])\n",
    "    return make_qiskit_pauli(vec_to_pauli_str(x))\n",
    "\n",
    "def label_from_qiskit_pauli(x):\n",
    "    y = x.to_label()\n",
    "    if y[0] in '-+':\n",
    "        return y[1:][::-1], y[0]\n",
    "    return y[::-1], '+'\n",
    "    "
   ]
  },
  {
   "cell_type": "markdown",
   "id": "544ce0c9",
   "metadata": {},
   "source": [
    "This notebook works through the example, where Alice wants to blindly implement a gate from the set $\\mathcal{F} =\\{ I, C\\}$, where $C = \\sigma_{(0,1,2)} \\otimes H_4 $. The first three qubits will be permuted cyclically, and the fourth qubit will have a Hadamard gate applied. The protocol uses the minimal number of qubits of communication required.\n",
    "\n",
    "The example will work through steps described in arxiv link. At the end of the document will be a compiled version of the code, allowing you to choose any Clifford, $C$, of your choosing and recieving the protocol where Alice, only needs the abilirt"
   ]
  },
  {
   "cell_type": "code",
   "execution_count": 3,
   "id": "01bc1d37",
   "metadata": {},
   "outputs": [
    {
     "data": {
      "image/png": "[encoded data removed]",
      "text/plain": [
       "<Figure size 287.496x367.889 with 1 Axes>"
      ]
     },
     "execution_count": 3,
     "metadata": {},
     "output_type": "execute_result"
    }
   ],
   "source": [
    "n = 4 #number of qubits the gate acts on\n",
    "\n",
    "clifford_circuit = QuantumCircuit(n)\n",
    "clifford_circuit.swap(0,2)\n",
    "clifford_circuit.swap(1,2)\n",
    "clifford_circuit.h(3)\n",
    "\n",
    "clifford_circuit.draw(output='mpl')"
   ]
  },
  {
   "cell_type": "markdown",
   "id": "7f18b547",
   "metadata": {},
   "source": [
    "First we must determine $$\\mathcal{P}_{\\mathcal{F}}= \\{ P \\in \\mathcal{P}_n, \\forall U \\in \\mathcal{U},\\, UPU^\\dagger = \\pm P\\}.$$\n",
    "\n",
    "This is effeciently done by inspecting the symplectic matrix ,$F$, associated to the Clifford circuit."
   ]
  },
  {
   "cell_type": "code",
   "execution_count": 4,
   "id": "1607bb08",
   "metadata": {},
   "outputs": [
    {
     "name": "stdout",
     "output_type": "stream",
     "text": [
      "F = \n",
      " [[0 1 0 0 0 0 0 0]\n",
      " [0 0 1 0 0 0 0 0]\n",
      " [1 0 0 0 0 0 0 0]\n",
      " [0 0 0 0 0 0 0 1]\n",
      " [0 0 0 0 0 1 0 0]\n",
      " [0 0 0 0 0 0 1 0]\n",
      " [0 0 0 0 1 0 0 0]\n",
      " [0 0 0 1 0 0 0 0]]\n",
      "\n",
      "X_0 goes to IXII\n",
      "X_1 goes to IIXI\n",
      "X_2 goes to XIII\n",
      "X_3 goes to IIIZ\n",
      "Z_0 goes to IZII\n",
      "Z_1 goes to IIZI\n",
      "Z_2 goes to ZIII\n",
      "Z_3 goes to IIIX\n"
     ]
    }
   ],
   "source": [
    "symplectic_matrix =  get_symplectic( Clifford(clifford_circuit)) \n",
    "print(f'F = \\n {symplectic_matrix}\\n')\n",
    "\n",
    "for i in range(n):\n",
    "    print(f'X_{i} goes to {vec_to_pauli_str(symplectic_matrix[i])}')\n",
    "\n",
    "for i in range(n):\n",
    "    print(f'Z_{i} goes to {vec_to_pauli_str(symplectic_matrix[i+n])}')"
   ]
  },
  {
   "cell_type": "markdown",
   "id": "1e43887f",
   "metadata": {},
   "source": [
    "The first $n$ rows are the binary vectors of the Pauli gate $C X_i C^\\dagger $ and the second $n$ rows are the binary vectors of the pauli gates $C Z_i C^\\dagger$.\n",
    "\n",
    "For example we have $X_0 \\rightarrow X_1 \\rightarrow X_2$ or $Z_0 \\rightarrow Z_1 \\rightarrow Z_2$ or $X_4 \\leftrightarrow Z_4$.\n",
    "\n",
    "For a general Pauli $P_x$, we have $CPC^\\dagger = \\pm P_y$, where $y=Fx$.\n",
    "\n",
    "\n",
    "For $P_x \\in \\mathcal{P}_\\mathcal{F}$, we must have $x=Fx$, or $x(F\\oplus I) =0$. We can compute a basis for $\\mathcal{P}_{\\mathcal{F}}$ by finding the left do this by computing the left kernel of $F \\oplus I$.\n",
    "\n"
   ]
  },
  {
   "cell_type": "code",
   "execution_count": 5,
   "id": "90d6e9bd",
   "metadata": {},
   "outputs": [
    {
     "name": "stdout",
     "output_type": "stream",
     "text": [
      "P_f =['XXXI', 'ZZZI', 'IIIY']\n"
     ]
    }
   ],
   "source": [
    "M = (symplectic_matrix + np.eye(2*n))%2\n",
    "\n",
    "P_f = kernel(M.T).toarray()\n",
    "print(f'P_f ={[vec_to_pauli_str(x) for x in P_f]}')"
   ]
  },
  {
   "cell_type": "markdown",
   "id": "61c81f35",
   "metadata": {},
   "source": [
    "Here $\\mathcal{P}_{\\mathcal{F}} = \\langle X_0X_1X_2, Z_0Z_1Z_2, Y_3 \\rangle$.\n",
    "\n",
    "We know that any blind implementation of $\\mathcal{F}$ takes at least \n",
    "\\begin{align*}\n",
    "N &= 2n-\\dim(\\mathcal{P}_{\\mathcal{F}})\\\\\n",
    "&= 2\\times 4 - 3\\\\\n",
    "&=5\n",
    "\\end{align*}\n",
    "qubits of commuincation from Bob to Alice."
   ]
  },
  {
   "cell_type": "markdown",
   "id": "d5034876",
   "metadata": {},
   "source": [
    "Since we are only interested in implementing $U \\in \\mathcal{F}$ up to a pauli gate, we can instead choose to blindly implement $P'U$ such that $$\\forall P_x \\in \\mathcal{P}_\\mathcal{F}\\, (P'U) P_x (P'U)^\\dagger  = + P_x.$$\n",
    "\n",
    "We can construct such a $P'$ by first determining the phases of $UP_x U^\\dagger$ and choosing $P'$ accordingly."
   ]
  },
  {
   "cell_type": "code",
   "execution_count": 6,
   "id": "2ac7f04d",
   "metadata": {},
   "outputs": [
    {
     "name": "stdout",
     "output_type": "stream",
     "text": [
      "XXXI goes to +XXXI\n",
      "ZZZI goes to +ZZZI\n",
      "IIIY goes to -IIIY\n"
     ]
    }
   ],
   "source": [
    "signs = []\n",
    "\n",
    "for p in P_f:\n",
    "    p_string = vec_to_pauli_str(p)\n",
    "    p = make_qiskit_pauli(p_string)\n",
    "    \n",
    "    new_p=p.evolve(clifford_circuit, frame ='h')\n",
    "    new_p_string, sign = label_from_qiskit_pauli(new_p)\n",
    "\n",
    "    print(f'{p_string} goes to {sign + new_p_string}')\n",
    "\n",
    "    if sign == '-':\n",
    "        signs.append(1)\n",
    "    else:\n",
    "        signs.append(0)\n"
   ]
  },
  {
   "cell_type": "markdown",
   "id": "aa8ab9a0",
   "metadata": {},
   "source": [
    "Here only $Y_3$ acquires a phase, choosing $P' = X_4$ is sufficient.\n",
    "\n",
    "In general we can let $\\{P_i\\}$ be a basis for $\\mathcal{P}_{\\mathcal{F}}$, and define $v_i$ such that $U P_i U^\\dagger = (-1)^{v_i} P_i$.\n",
    "\n",
    "We can construct a new set of paulis $P'_i$ satisfying $P'_j P_i P'_j = (-1)^{\\delta_{i,j}} P_i$. We would then have $P' = \\prod_{i} P'^{v_i}_i$."
   ]
  },
  {
   "cell_type": "code",
   "execution_count": 7,
   "id": "ce503996",
   "metadata": {},
   "outputs": [
    {
     "name": "stdout",
     "output_type": "stream",
     "text": [
      "P' = IIIX\n"
     ]
    }
   ],
   "source": [
    "def get_circuit_factor(P_f, signs,n ):\n",
    "    #Gram schmidt style procedure to construct paulis P'_i such that \n",
    "    r = len(P_f)\n",
    "    M = np.eye(2*n)\n",
    "    for i in range(r):\n",
    "        for j in range(i,2*n):\n",
    "            if symplectic_product(M[j], P_f[i])==1:\n",
    "                break\n",
    "        M[[i,j]] = M[[j,i]]\n",
    "        for j in range(2*n):\n",
    "            if j != i:\n",
    "                if symplectic_product(M[j], P_f[i])==1:\n",
    "                    M[j] = (M[j]+M[i])%2\n",
    "    output = np.zeros((1,2*n))\n",
    "    for i in range(r):\n",
    "        if signs[i]==1:\n",
    "            output =  (output + M[i])%2\n",
    "    return output[0]\n",
    "\n",
    "pauli_factor  = get_circuit_factor(P_f, signs, n)\n",
    "\n",
    "print(f'P\\' = {vec_to_pauli_str(pauli_factor)}')"
   ]
  },
  {
   "cell_type": "markdown",
   "id": "ea14f149",
   "metadata": {},
   "source": [
    "The blind gate we instead want to implement is."
   ]
  },
  {
   "cell_type": "code",
   "execution_count": 8,
   "id": "7cdc39a2",
   "metadata": {},
   "outputs": [
    {
     "data": {
      "image/png": "[encoded data removed]",
      "text/plain": [
       "<Figure size 287.496x367.889 with 1 Axes>"
      ]
     },
     "execution_count": 8,
     "metadata": {},
     "output_type": "execute_result"
    }
   ],
   "source": [
    "initial_pauli_gate = QuantumCircuit(n)\n",
    "\n",
    "for i in range(n):\n",
    "    x,z = pauli_factor[i], pauli_factor[i+n]\n",
    "    if (x,z)==(1,0):\n",
    "        initial_pauli_gate.x(i)\n",
    "    elif (x,z) ==(0,1):\n",
    "        initial_pauli_gate.z(i)\n",
    "    elif (x,z) ==(1,1):\n",
    "        initial_pauli_gate.y(i)\n",
    "\n",
    "new_clifford_circuit = clifford_circuit.compose(initial_pauli_gate)\n",
    "new_clifford_circuit.draw(output='mpl')"
   ]
  },
  {
   "cell_type": "markdown",
   "id": "c2cc1724",
   "metadata": {},
   "source": [
    "We know that $P'U$ has support on $\\mathcal{B}$, where $\\mathcal{B}$ is the set of Paulis that fully commute with $\\mathcal{P}_\\mathcal{F}$.\n",
    " \n",
    "Since $\\mathcal{B} = Ker(\\mathcal{\\mathcal{P}_{\\mathcal{F}}} \\Omega)$, we have $\\dim(\\mathcal{B})= 2n-r$ where $r = \\dim(\\mathcal{P}_\\mathcal{F})$"
   ]
  },
  {
   "cell_type": "code",
   "execution_count": 9,
   "id": "f986f2d7",
   "metadata": {},
   "outputs": [
    {
     "name": "stdout",
     "output_type": "stream",
     "text": [
      "B=['IXXI', 'XXII', 'ZZII', 'ZIZI', 'IIIY']\n"
     ]
    }
   ],
   "source": [
    "Omega = symplectic_form_matrix(n)\n",
    "B = kernel(P_f @ Omega).toarray()\n",
    "N = len(B)\n",
    "\n",
    "print(f'B={[vec_to_pauli_str(x) for x in B]}')"
   ]
  },
  {
   "cell_type": "markdown",
   "id": "e04d8146",
   "metadata": {},
   "source": [
    "Now that we have a basis for $\\mathcal{B}$, we can construct the blind gate protocol."
   ]
  },
  {
   "cell_type": "code",
   "execution_count": 10,
   "id": "74251593",
   "metadata": {},
   "outputs": [
    {
     "name": "stdout",
     "output_type": "stream",
     "text": [
      "Circuit implemented by Bob:\n"
     ]
    },
    {
     "data": {
      "image/svg+xml": [
       "<svg viewBox=\"0 0 736 672\"  version=\"1.1\" xmlns=\"http://www.w3.org/2000/svg\">\n",
       "<g id=\"qubit_lines\">\n",
       "<path id=\"qubit_line:0\" d=\"M64,64 L704,64 \" stroke=\"black\"/>\n",
       "<text dominant-baseline=\"central\" text-anchor=\"end\" font-family=\"monospace\" font-size=\"12\" x=\"64\" y=\"64\">q0</text>\n",
       "<path id=\"qubit_line:1\" d=\"M64,128 L704,128 \" stroke=\"black\"/>\n",
       "<text dominant-baseline=\"central\" text-anchor=\"end\" font-family=\"monospace\" font-size=\"12\" x=\"64\" y=\"128\">q1</text>\n",
       "<path id=\"qubit_line:2\" d=\"M64,192 L704,192 \" stroke=\"black\"/>\n",
       "<text dominant-baseline=\"central\" text-anchor=\"end\" font-family=\"monospace\" font-size=\"12\" x=\"64\" y=\"192\">q2</text>\n",
       "<path id=\"qubit_line:3\" d=\"M64,256 L704,256 \" stroke=\"black\"/>\n",
       "<text dominant-baseline=\"central\" text-anchor=\"end\" font-family=\"monospace\" font-size=\"12\" x=\"64\" y=\"256\">q3</text>\n",
       "<path id=\"qubit_line:4\" d=\"M64,320 L704,320 \" stroke=\"black\"/>\n",
       "<text dominant-baseline=\"central\" text-anchor=\"end\" font-family=\"monospace\" font-size=\"12\" x=\"64\" y=\"320\">q4</text>\n",
       "<path id=\"qubit_line:5\" d=\"M64,384 L704,384 \" stroke=\"black\"/>\n",
       "<text dominant-baseline=\"central\" text-anchor=\"end\" font-family=\"monospace\" font-size=\"12\" x=\"64\" y=\"384\">q5</text>\n",
       "<path id=\"qubit_line:6\" d=\"M64,448 L704,448 \" stroke=\"black\"/>\n",
       "<text dominant-baseline=\"central\" text-anchor=\"end\" font-family=\"monospace\" font-size=\"12\" x=\"64\" y=\"448\">q6</text>\n",
       "<path id=\"qubit_line:7\" d=\"M64,512 L704,512 \" stroke=\"black\"/>\n",
       "<text dominant-baseline=\"central\" text-anchor=\"end\" font-family=\"monospace\" font-size=\"12\" x=\"64\" y=\"512\">q7</text>\n",
       "<path id=\"qubit_line:8\" d=\"M64,576 L704,576 \" stroke=\"black\"/>\n",
       "<text dominant-baseline=\"central\" text-anchor=\"end\" font-family=\"monospace\" font-size=\"12\" x=\"64\" y=\"576\">q8</text>\n",
       "</g>\n",
       "<rect x=\"80\" y=\"48\" width=\"32\" height=\"32\" stroke=\"black\" fill=\"white\"/>\n",
       "<text dominant-baseline=\"central\" text-anchor=\"middle\" font-family=\"monospace\" font-size=\"30\" x=\"96\" y=\"64\">H</text>\n",
       "<rect x=\"80\" y=\"112\" width=\"32\" height=\"32\" stroke=\"black\" fill=\"white\"/>\n",
       "<text dominant-baseline=\"central\" text-anchor=\"middle\" font-family=\"monospace\" font-size=\"30\" x=\"96\" y=\"128\">H</text>\n",
       "<rect x=\"80\" y=\"176\" width=\"32\" height=\"32\" stroke=\"black\" fill=\"white\"/>\n",
       "<text dominant-baseline=\"central\" text-anchor=\"middle\" font-family=\"monospace\" font-size=\"30\" x=\"96\" y=\"192\">H</text>\n",
       "<rect x=\"80\" y=\"240\" width=\"32\" height=\"32\" stroke=\"black\" fill=\"white\"/>\n",
       "<text dominant-baseline=\"central\" text-anchor=\"middle\" font-family=\"monospace\" font-size=\"30\" x=\"96\" y=\"256\">H</text>\n",
       "<rect x=\"80\" y=\"304\" width=\"32\" height=\"32\" stroke=\"black\" fill=\"white\"/>\n",
       "<text dominant-baseline=\"central\" text-anchor=\"middle\" font-family=\"monospace\" font-size=\"30\" x=\"96\" y=\"320\">H</text>\n",
       "<path d=\"M160,64 L160,448 \" stroke=\"black\"/>\n",
       "<circle cx=\"160\" cy=\"64\" r=\"12\" stroke=\"none\" fill=\"black\"/>\n",
       "<circle cx=\"160\" cy=\"448\" r=\"12\" stroke=\"black\" fill=\"white\"/>\n",
       "<path d=\"M148,448 L172,448 M160,436 L160,460 \" stroke=\"black\"/>\n",
       "<path d=\"M224,64 L224,512 \" stroke=\"black\"/>\n",
       "<circle cx=\"224\" cy=\"64\" r=\"12\" stroke=\"none\" fill=\"black\"/>\n",
       "<circle cx=\"224\" cy=\"512\" r=\"12\" stroke=\"black\" fill=\"white\"/>\n",
       "<path d=\"M212,512 L236,512 M224,500 L224,524 \" stroke=\"black\"/>\n",
       "<path d=\"M288,128 L288,384 \" stroke=\"black\"/>\n",
       "<circle cx=\"288\" cy=\"128\" r=\"12\" stroke=\"none\" fill=\"black\"/>\n",
       "<circle cx=\"288\" cy=\"384\" r=\"12\" stroke=\"black\" fill=\"white\"/>\n",
       "<path d=\"M276,384 L300,384 M288,372 L288,396 \" stroke=\"black\"/>\n",
       "<path d=\"M352,128 L352,448 \" stroke=\"black\"/>\n",
       "<circle cx=\"352\" cy=\"128\" r=\"12\" stroke=\"none\" fill=\"black\"/>\n",
       "<circle cx=\"352\" cy=\"448\" r=\"12\" stroke=\"black\" fill=\"white\"/>\n",
       "<path d=\"M340,448 L364,448 M352,436 L352,460 \" stroke=\"black\"/>\n",
       "<path d=\"M416,192 L416,384 \" stroke=\"black\"/>\n",
       "<circle cx=\"416\" cy=\"192\" r=\"12\" stroke=\"none\" fill=\"black\"/>\n",
       "<circle cx=\"416\" cy=\"384\" r=\"12\" stroke=\"none\" fill=\"black\"/>\n",
       "<path d=\"M480,192 L480,448 \" stroke=\"black\"/>\n",
       "<circle cx=\"480\" cy=\"192\" r=\"12\" stroke=\"none\" fill=\"black\"/>\n",
       "<circle cx=\"480\" cy=\"448\" r=\"12\" stroke=\"none\" fill=\"black\"/>\n",
       "<path d=\"M544,256 L544,384 \" stroke=\"black\"/>\n",
       "<circle cx=\"544\" cy=\"256\" r=\"12\" stroke=\"none\" fill=\"black\"/>\n",
       "<circle cx=\"544\" cy=\"384\" r=\"12\" stroke=\"none\" fill=\"black\"/>\n",
       "<path d=\"M608,256 L608,512 \" stroke=\"black\"/>\n",
       "<circle cx=\"608\" cy=\"256\" r=\"12\" stroke=\"none\" fill=\"black\"/>\n",
       "<circle cx=\"608\" cy=\"512\" r=\"12\" stroke=\"none\" fill=\"black\"/>\n",
       "<path d=\"M672,320 L672,576 \" stroke=\"black\"/>\n",
       "<circle cx=\"672\" cy=\"320\" r=\"12\" stroke=\"none\" fill=\"black\"/>\n",
       "<path d=\"M672,592.8 L657.451,567.6 L686.549,567.6 Z\" stroke=\"black\" fill=\"gray\"/>\n",
       "</svg>"
      ],
      "text/plain": [
       "<svg viewBox=\"0 0 736 672\"  version=\"1.1\" xmlns=\"http://www.w3.org/2000/svg\">\n",
       "<g id=\"qubit_lines\">\n",
       "<path id=\"qubit_line:0\" d=\"M64,64 L704,64 \" stroke=\"black\"/>\n",
       "<text dominant-baseline=\"central\" text-anchor=\"end\" font-family=\"monospace\" font-size=\"12\" x=\"64\" y=\"64\">q0</text>\n",
       "<path id=\"qubit_line:1\" d=\"M64,128 L704,128 \" stroke=\"black\"/>\n",
       "<text dominant-baseline=\"central\" text-anchor=\"end\" font-family=\"monospace\" font-size=\"12\" x=\"64\" y=\"128\">q1</text>\n",
       "<path id=\"qubit_line:2\" d=\"M64,192 L704,192 \" stroke=\"black\"/>\n",
       "<text dominant-baseline=\"central\" text-anchor=\"end\" font-family=\"monospace\" font-size=\"12\" x=\"64\" y=\"192\">q2</text>\n",
       "<path id=\"qubit_line:3\" d=\"M64,256 L704,256 \" stroke=\"black\"/>\n",
       "<text dominant-baseline=\"central\" text-anchor=\"end\" font-family=\"monospace\" font-size=\"12\" x=\"64\" y=\"256\">q3</text>\n",
       "<path id=\"qubit_line:4\" d=\"M64,320 L704,320 \" stroke=\"black\"/>\n",
       "<text dominant-baseline=\"central\" text-anchor=\"end\" font-family=\"monospace\" font-size=\"12\" x=\"64\" y=\"320\">q4</text>\n",
       "<path id=\"qubit_line:5\" d=\"M64,384 L704,384 \" stroke=\"black\"/>\n",
       "<text dominant-baseline=\"central\" text-anchor=\"end\" font-family=\"monospace\" font-size=\"12\" x=\"64\" y=\"384\">q5</text>\n",
       "<path id=\"qubit_line:6\" d=\"M64,448 L704,448 \" stroke=\"black\"/>\n",
       "<text dominant-baseline=\"central\" text-anchor=\"end\" font-family=\"monospace\" font-size=\"12\" x=\"64\" y=\"448\">q6</text>\n",
       "<path id=\"qubit_line:7\" d=\"M64,512 L704,512 \" stroke=\"black\"/>\n",
       "<text dominant-baseline=\"central\" text-anchor=\"end\" font-family=\"monospace\" font-size=\"12\" x=\"64\" y=\"512\">q7</text>\n",
       "<path id=\"qubit_line:8\" d=\"M64,576 L704,576 \" stroke=\"black\"/>\n",
       "<text dominant-baseline=\"central\" text-anchor=\"end\" font-family=\"monospace\" font-size=\"12\" x=\"64\" y=\"576\">q8</text>\n",
       "</g>\n",
       "<rect x=\"80\" y=\"48\" width=\"32\" height=\"32\" stroke=\"black\" fill=\"white\"/>\n",
       "<text dominant-baseline=\"central\" text-anchor=\"middle\" font-family=\"monospace\" font-size=\"30\" x=\"96\" y=\"64\">H</text>\n",
       "<rect x=\"80\" y=\"112\" width=\"32\" height=\"32\" stroke=\"black\" fill=\"white\"/>\n",
       "<text dominant-baseline=\"central\" text-anchor=\"middle\" font-family=\"monospace\" font-size=\"30\" x=\"96\" y=\"128\">H</text>\n",
       "<rect x=\"80\" y=\"176\" width=\"32\" height=\"32\" stroke=\"black\" fill=\"white\"/>\n",
       "<text dominant-baseline=\"central\" text-anchor=\"middle\" font-family=\"monospace\" font-size=\"30\" x=\"96\" y=\"192\">H</text>\n",
       "<rect x=\"80\" y=\"240\" width=\"32\" height=\"32\" stroke=\"black\" fill=\"white\"/>\n",
       "<text dominant-baseline=\"central\" text-anchor=\"middle\" font-family=\"monospace\" font-size=\"30\" x=\"96\" y=\"256\">H</text>\n",
       "<rect x=\"80\" y=\"304\" width=\"32\" height=\"32\" stroke=\"black\" fill=\"white\"/>\n",
       "<text dominant-baseline=\"central\" text-anchor=\"middle\" font-family=\"monospace\" font-size=\"30\" x=\"96\" y=\"320\">H</text>\n",
       "<path d=\"M160,64 L160,448 \" stroke=\"black\"/>\n",
       "<circle cx=\"160\" cy=\"64\" r=\"12\" stroke=\"none\" fill=\"black\"/>\n",
       "<circle cx=\"160\" cy=\"448\" r=\"12\" stroke=\"black\" fill=\"white\"/>\n",
       "<path d=\"M148,448 L172,448 M160,436 L160,460 \" stroke=\"black\"/>\n",
       "<path d=\"M224,64 L224,512 \" stroke=\"black\"/>\n",
       "<circle cx=\"224\" cy=\"64\" r=\"12\" stroke=\"none\" fill=\"black\"/>\n",
       "<circle cx=\"224\" cy=\"512\" r=\"12\" stroke=\"black\" fill=\"white\"/>\n",
       "<path d=\"M212,512 L236,512 M224,500 L224,524 \" stroke=\"black\"/>\n",
       "<path d=\"M288,128 L288,384 \" stroke=\"black\"/>\n",
       "<circle cx=\"288\" cy=\"128\" r=\"12\" stroke=\"none\" fill=\"black\"/>\n",
       "<circle cx=\"288\" cy=\"384\" r=\"12\" stroke=\"black\" fill=\"white\"/>\n",
       "<path d=\"M276,384 L300,384 M288,372 L288,396 \" stroke=\"black\"/>\n",
       "<path d=\"M352,128 L352,448 \" stroke=\"black\"/>\n",
       "<circle cx=\"352\" cy=\"128\" r=\"12\" stroke=\"none\" fill=\"black\"/>\n",
       "<circle cx=\"352\" cy=\"448\" r=\"12\" stroke=\"black\" fill=\"white\"/>\n",
       "<path d=\"M340,448 L364,448 M352,436 L352,460 \" stroke=\"black\"/>\n",
       "<path d=\"M416,192 L416,384 \" stroke=\"black\"/>\n",
       "<circle cx=\"416\" cy=\"192\" r=\"12\" stroke=\"none\" fill=\"black\"/>\n",
       "<circle cx=\"416\" cy=\"384\" r=\"12\" stroke=\"none\" fill=\"black\"/>\n",
       "<path d=\"M480,192 L480,448 \" stroke=\"black\"/>\n",
       "<circle cx=\"480\" cy=\"192\" r=\"12\" stroke=\"none\" fill=\"black\"/>\n",
       "<circle cx=\"480\" cy=\"448\" r=\"12\" stroke=\"none\" fill=\"black\"/>\n",
       "<path d=\"M544,256 L544,384 \" stroke=\"black\"/>\n",
       "<circle cx=\"544\" cy=\"256\" r=\"12\" stroke=\"none\" fill=\"black\"/>\n",
       "<circle cx=\"544\" cy=\"384\" r=\"12\" stroke=\"none\" fill=\"black\"/>\n",
       "<path d=\"M608,256 L608,512 \" stroke=\"black\"/>\n",
       "<circle cx=\"608\" cy=\"256\" r=\"12\" stroke=\"none\" fill=\"black\"/>\n",
       "<circle cx=\"608\" cy=\"512\" r=\"12\" stroke=\"none\" fill=\"black\"/>\n",
       "<path d=\"M672,320 L672,576 \" stroke=\"black\"/>\n",
       "<circle cx=\"672\" cy=\"320\" r=\"12\" stroke=\"none\" fill=\"black\"/>\n",
       "<path d=\"M672,592.8 L657.451,567.6 L686.549,567.6 Z\" stroke=\"black\" fill=\"gray\"/>\n",
       "</svg>"
      ]
     },
     "execution_count": 10,
     "metadata": {},
     "output_type": "execute_result"
    }
   ],
   "source": [
    "def make_circuit_protocol_entangled(B):\n",
    "    N= len(B)\n",
    "    n = len(B[0])//2\n",
    "    protocol = Circuit()\n",
    "    for i in range(N):\n",
    "        protocol.append('H', i)\n",
    "    for i in range(N):\n",
    "        for j in range(n):\n",
    "            x,z = B[i][j], B[i][j+n]\n",
    "            if (x,z) == (1,0):\n",
    "                protocol.append('CX', (i,N+j))\n",
    "            if (x,z) == (0,1):\n",
    "                protocol.append('CZ', (i,N+j))\n",
    "            if (x,z) == (1,1):\n",
    "                protocol.append('CY', (i,N+j))\n",
    "\n",
    "    return protocol\n",
    "\n",
    "print('Circuit implemented by Bob:')\n",
    "protocol_circuit = make_circuit_protocol_entangled(B)\n",
    "protocol_circuit.diagram('timeline-svg')"
   ]
  },
  {
   "cell_type": "markdown",
   "id": "6797b807",
   "metadata": {},
   "source": [
    "The first five qubits are initialised to $\\ket{0}$, and bob places his state $\\ket{\\psi}$ in the register on the bottom four wires.\n",
    "\n",
    "For Alice to blindly implement the gate $U\\in \\mathcal{F}$, she must measure in the $\\ket{\\phi^*_{B_z U}}$ basis.\n",
    "\n",
    "The state is defined as $\\ket{\\phi^*_{B_zU}} = \\sum_x \\gamma^*_x \\ket{x}$, where $\\sum_{x} \\gamma_x B_x =  B_z U$.\n",
    "\n",
    "There is a natural way to measure in this basis when $U$ is Clifford. We can define a Clifford gate, $V_\\textnormal{st}$, that satisfies $V_\\textnormal{st} B_i V_\\textnormal{st}^\\dagger = X_i Z_{c(i)}$, for some binary strings $c(i)$ that preserve commutation relation.\n",
    "\n",
    "We then have:\n",
    "\\begin{align*}\n",
    "&V_{\\textnormal{st}} U V_{\\textnormal{st}}^\\dagger \\ket{0\\dots 0}\\\\\n",
    "&= V_{\\textnormal{st}} \\left( \\sum_x \\gamma_x B_x \\right) V_{\\textnormal{st}}^\\dagger \\ket{0\\dots 0}\\\\\n",
    "&=\\sum_x \\gamma_x x_x Z_{c(x)} \\ket{0\\dots 0}\\\\\n",
    "&= \\sum_x \\gamma_x \\ket{x}\\\\\n",
    "&= \\ket{\\phi_{U}}\n",
    "\\end{align*}\n",
    "\n",
    "\n",
    "We must therefore have $\\ket{\\phi_{B_x U}}$ be a stabilizer state. The stabilizers can be obtained, by tracking the stabilizers $Z_i$ through the Clifford circuit $V_{\\textnormal{st}} B_x U V_{\\textnormal{st}}^\\dagger $.\n",
    "Moreover, these circuits only differ by a Pauli gate, they must all have the same stabilizers, but differ on signs. We then have $\\ket{\\phi^*_{B_x U}}$ shares the same stabilizers.\n",
    "\n",
    "Next we will construct $V_{\\textnormal{st}}$ and find the set of stabilizers that we must measure."
   ]
  },
  {
   "cell_type": "code",
   "execution_count": 11,
   "id": "94faa3e6",
   "metadata": {},
   "outputs": [
    {
     "name": "stdout",
     "output_type": "stream",
     "text": [
      "ZIIII is mapped to -ZZXXI\n",
      "IZIII is mapped to -ZIIXI\n",
      "IIZII is mapped to +IXZII\n",
      "IIIZI is mapped to +XIIZI\n",
      "IIIIZ is mapped to +IIIIY\n"
     ]
    }
   ],
   "source": [
    "\n",
    "\n",
    "def get_v_st(B):\n",
    "\n",
    "    def get_anti_C(C):\n",
    "        N = len(C)\n",
    "        n = len(C[0])//2\n",
    "        A= np.eye(2*n, dtype = int)\n",
    "        for i in range(N):\n",
    "            for j in range(i,2*n):\n",
    "                if symplectic_product(A[j], C[i]) ==1:\n",
    "                    break\n",
    "            A[[i,j]] = A[[j,i]]\n",
    "\n",
    "            for k in range(2*n):\n",
    "                if k!= i and symplectic_product(A[k], C[i])==1:\n",
    "                    A[k] = (A[k]+ A[i])%2\n",
    "        return A\n",
    "        \n",
    "\n",
    "    #first we define vectors c_i satisfying b_i Omega b_j = c_i omega c_j, and extend to full bases. The resulitng map B^-1 C would map b_i to c_i\n",
    "    N = len(B)\n",
    "    n = len(B[0])//2\n",
    "    size = max(N, n)\n",
    "\n",
    "    if N>=n:\n",
    "        B = np.array([pauli_str_to_vec(vec_to_pauli_str( b)+ 'I'*(N-n) ) for b in B])\n",
    "    \n",
    "    C = np.array([[1 if i==j else 0 for j in range(size)] +[symplectic_product(B[i], B[j]) if j<i else 0 for j in range(size)] for i in range(N)])\n",
    "\n",
    "\n",
    "    current_rank = rank(B)\n",
    "    for i in range(2*size):\n",
    "        B_temp= list(B.copy())\n",
    "        B_temp.append(np.array([1 if i==j else 0 for j in range(2*size)]))\n",
    "        B_temp = np.array(B_temp)\n",
    "        if rank(B_temp)> current_rank:\n",
    "            B = B_temp\n",
    "            current_rank = rank(B)\n",
    "\n",
    "    for i in range(N, 2*size):\n",
    "        #get necesarry commutaiton relations from BaseException\n",
    "        commutation_relations = []\n",
    "        for j in range(i):\n",
    "            commutation_relations.append(symplectic_product(B[i],B[j]))\n",
    "        anti_C =  get_anti_C(C)\n",
    "        new_row = np.array([0 for _ in range(2*size)], dtype=int)\n",
    "        for a, sign in enumerate(commutation_relations):\n",
    "            if sign ==1:\n",
    "                new_row = (new_row + anti_C[a])%2\n",
    "\n",
    "        C = list(C)\n",
    "        C.append(new_row)\n",
    "        C = np.array(C)\n",
    "\n",
    "        k=i+1\n",
    "        while rank(C) < len(C):\n",
    "            C[i] = (C[i]+ anti_C[k])%2\n",
    "            k+=1\n",
    "\n",
    "    return inverse(B)@C%2\n",
    "\n",
    "V_st = get_v_st(B)\n",
    "\n",
    "V_cliff = Clifford(V_st)\n",
    "V_circ = V_cliff.to_circuit()\n",
    "\n",
    "V_circ_dagger  = V_circ.inverse()\n",
    "\n",
    "temp_U = clifford_circuit.copy()\n",
    "temp_U.add_register(QuantumRegister(max(N-n, 0))) # if N>n, we must \n",
    "\n",
    "\n",
    "stab_circuit = V_circ_dagger\n",
    "stab_circuit = stab_circuit.compose(temp_U)\n",
    "stab_circuit = stab_circuit.compose(V_circ)\n",
    "\n",
    "\n",
    "measurement_basis = []\n",
    "\n",
    "for i in range(N):\n",
    "\n",
    "    Z_i = make_qiskit_pauli('I'*i + 'Z' + 'I'*(max(n,N)-i-1))\n",
    "    Z_i_new = Z_i.evolve(stab_circuit, frame='h')\n",
    "\n",
    "\n",
    "    stab_in, sign_in =  label_from_qiskit_pauli(Z_i)\n",
    "    stab_out, sign_out = label_from_qiskit_pauli(Z_i_new)\n",
    "\n",
    "    print(f'{stab_in } is mapped to {sign_out + stab_out}')\n",
    "    measurement_basis.append(pauli_str_to_vec(stab_out))\n",
    "    \n",
    "measurement_basis = np.array(measurement_basis)\n",
    "\n"
   ]
  },
  {
   "cell_type": "markdown",
   "id": "8c1c74f6",
   "metadata": {},
   "source": [
    "We can now implement the protocol. As we are simulating the circuit with Stim, Bob's choice of state must be a stabilizer state.\n",
    "\n",
    "To make the action of the gate clear, Bob will choose the initial state $\\ket{\\psi} = \\ket{+} \\ket{+_y} \\ket{0} \\ket{0}$. If $U$ is applied, the resulting state will be $U\\ket{\\psi} =  \\ket{0} \\ket{+} \\ket{+_y} \\ket{+}$. The first three qubits are permuted and $H$ is applied to the final qubit."
   ]
  },
  {
   "cell_type": "code",
   "execution_count": 12,
   "id": "a096f1fa",
   "metadata": {},
   "outputs": [
    {
     "name": "stdout",
     "output_type": "stream",
     "text": [
      "Bob initialises his state\n"
     ]
    },
    {
     "data": {
      "text/html": [
       "<pre>q0: -----\n",
       "\n",
       "q1: -----\n",
       "\n",
       "q2: -----\n",
       "\n",
       "q3: -----\n",
       "\n",
       "q4: -----\n",
       "\n",
       "q5: -H---\n",
       "\n",
       "q6: -H-S-\n",
       "\n",
       "q7: ---I-\n",
       "\n",
       "q8: ---I-</pre>"
      ],
      "text/plain": [
       "q0: -----\n",
       "\n",
       "q1: -----\n",
       "\n",
       "q2: -----\n",
       "\n",
       "q3: -----\n",
       "\n",
       "q4: -----\n",
       "\n",
       "q5: -H---\n",
       "\n",
       "q6: -H-S-\n",
       "\n",
       "q7: ---I-\n",
       "\n",
       "q8: ---I-"
      ]
     },
     "execution_count": 12,
     "metadata": {},
     "output_type": "execute_result"
    }
   ],
   "source": [
    "prepare = Circuit()\n",
    "prepare.append('H', N)\n",
    "prepare.append('H', N+1)\n",
    "prepare.append('S', N+1)\n",
    "prepare.append('I', N+2)\n",
    "prepare.append('I', N+3)\n",
    "\n",
    "\n",
    "print('Bob initialises his state')\n",
    "\n",
    "prepare.diagram()"
   ]
  },
  {
   "cell_type": "markdown",
   "id": "9b3f3690",
   "metadata": {},
   "source": [
    "First we will simulate the scenario where Alice chooses to implement $I$. Here Alice will measure her qubits in the $Z$ basis."
   ]
  },
  {
   "cell_type": "code",
   "execution_count": 13,
   "id": "dfd40027",
   "metadata": {},
   "outputs": [
    {
     "name": "stdout",
     "output_type": "stream",
     "text": [
      "measurement_results:\t[True, False, True, False, True]\n",
      "Final state\n",
      "-Z________\n",
      "+_Z_______\n",
      "-__Z______\n",
      "+___Z_____\n",
      "-____Z____\n",
      "-_____X___\n",
      "+______Y__\n",
      "-_______Z_\n",
      "-________Z\n"
     ]
    }
   ],
   "source": [
    "total_circ = Circuit()\n",
    "total_circ += prepare\n",
    "total_circ += make_circuit_protocol_entangled(B)\n",
    "\n",
    "sim = TableauSimulator()\n",
    "sim.do(total_circ)\n",
    "\n",
    "Z_basis = [PauliString('I'*i + 'Z' + 'I'*(N-i-1) + 'I'*n) for i in range(N)] #measuring in Z basis for identity\n",
    "\n",
    "measurement_results= []\n",
    "for P in Z_basis:\n",
    "    result = sim.measure_observable(P)\n",
    "    measurement_results.append(result)\n",
    "print(f'measurement_results:\\t{measurement_results}')\n",
    "print('Final state')\n",
    "for stab in sim.canonical_stabilizers():\n",
    "    print(stab)"
   ]
  },
  {
   "cell_type": "markdown",
   "id": "557b52b3",
   "metadata": {},
   "source": [
    "Only the signs of the stabilizers have changed, the state is unchanged up to Pauli gate. We now simulate the scenario where Alice measures in the $\\ket{\\phi^*_{B_x C}}$ basis."
   ]
  },
  {
   "cell_type": "code",
   "execution_count": 14,
   "id": "0b1e8c57",
   "metadata": {},
   "outputs": [
    {
     "name": "stdout",
     "output_type": "stream",
     "text": [
      "measurement_results:\t[True, False, False, True, True]\n",
      "Final state\n",
      "-X__Z_____\n",
      "+Z__X_____\n",
      "+_XZ______\n",
      "-_ZX______\n",
      "-____Y____\n",
      "+_____Z___\n",
      "+______X__\n",
      "+_______Y_\n",
      "-________X\n"
     ]
    }
   ],
   "source": [
    "total_circ = Circuit()\n",
    "total_circ += prepare\n",
    "total_circ += make_circuit_protocol_entangled(B)\n",
    "\n",
    "\n",
    "sim = TableauSimulator()\n",
    "sim.do(total_circ)\n",
    "\n",
    "\n",
    "phi_U_basis = [PauliString( vec_to_pauli_str(p) + 'I'*n) for p in measurement_basis ] #measuring in |phi_{C}> basis for C\n",
    "\n",
    "measurement_results= []\n",
    "for P in phi_U_basis:\n",
    "    result = sim.measure_observable(P)\n",
    "    measurement_results.append(result)\n",
    "print(f'measurement_results:\\t{measurement_results}')\n",
    "print('Final state')\n",
    "for stab in sim.canonical_stabilizers():\n",
    "    print(stab)"
   ]
  },
  {
   "cell_type": "markdown",
   "id": "b3a208db",
   "metadata": {},
   "source": [
    "Up to a Pauli gate, the resulting state in Bob's possesion is $\\ket{0} \\ket{+} \\ket{+_y} \\ket{+}$ as desired!\n",
    "\n",
    "We now show how Alice's quantum capabilites can be simplified even further. By performing row reductions on the stabilizers Alice measures, we can learn how to adjust the protcol such that Alice either measures in the $Z$ basis to implement the identity gate and the $X$ basis to implement $C$."
   ]
  },
  {
   "cell_type": "code",
   "execution_count": 15,
   "id": "ccf4ca8d",
   "metadata": {},
   "outputs": [
    {
     "name": "stdout",
     "output_type": "stream",
     "text": [
      "New measurement stabilzer basis:\n",
      "XIIZI\n",
      "IXZII\n",
      "IZXII\n",
      "ZIIXI\n",
      "IIIIY\n"
     ]
    }
   ],
   "source": [
    "stab_clean,_ ,_ ,_ = reduced_row_echelon( measurement_basis )\n",
    "\n",
    "print(f'New measurement stabilzer basis:')\n",
    "for P in stab_clean:\n",
    "    print(vec_to_pauli_str(P))\n"
   ]
  },
  {
   "cell_type": "markdown",
   "id": "90bd1c52",
   "metadata": {},
   "source": [
    "This reduced basis tells us how to adjust the circuit. $Z$ terms on the off diaganol correspond to an additional $\\text{c}Z$ gate between the qubits. $Y$ terms along the diaganol, correspond to an additional $S$ gate. "
   ]
  },
  {
   "cell_type": "code",
   "execution_count": 16,
   "id": "e375568c",
   "metadata": {},
   "outputs": [
    {
     "name": "stdout",
     "output_type": "stream",
     "text": [
      "Optimal circuit with separable measurements:\n"
     ]
    },
    {
     "data": {
      "image/svg+xml": [
       "<svg viewBox=\"0 0 864 672\"  version=\"1.1\" xmlns=\"http://www.w3.org/2000/svg\">\n",
       "<g id=\"qubit_lines\">\n",
       "<path id=\"qubit_line:0\" d=\"M64,64 L832,64 \" stroke=\"black\"/>\n",
       "<text dominant-baseline=\"central\" text-anchor=\"end\" font-family=\"monospace\" font-size=\"12\" x=\"64\" y=\"64\">q0</text>\n",
       "<path id=\"qubit_line:1\" d=\"M64,128 L832,128 \" stroke=\"black\"/>\n",
       "<text dominant-baseline=\"central\" text-anchor=\"end\" font-family=\"monospace\" font-size=\"12\" x=\"64\" y=\"128\">q1</text>\n",
       "<path id=\"qubit_line:2\" d=\"M64,192 L832,192 \" stroke=\"black\"/>\n",
       "<text dominant-baseline=\"central\" text-anchor=\"end\" font-family=\"monospace\" font-size=\"12\" x=\"64\" y=\"192\">q2</text>\n",
       "<path id=\"qubit_line:3\" d=\"M64,256 L832,256 \" stroke=\"black\"/>\n",
       "<text dominant-baseline=\"central\" text-anchor=\"end\" font-family=\"monospace\" font-size=\"12\" x=\"64\" y=\"256\">q3</text>\n",
       "<path id=\"qubit_line:4\" d=\"M64,320 L832,320 \" stroke=\"black\"/>\n",
       "<text dominant-baseline=\"central\" text-anchor=\"end\" font-family=\"monospace\" font-size=\"12\" x=\"64\" y=\"320\">q4</text>\n",
       "<path id=\"qubit_line:5\" d=\"M64,384 L832,384 \" stroke=\"black\"/>\n",
       "<text dominant-baseline=\"central\" text-anchor=\"end\" font-family=\"monospace\" font-size=\"12\" x=\"64\" y=\"384\">q5</text>\n",
       "<path id=\"qubit_line:6\" d=\"M64,448 L832,448 \" stroke=\"black\"/>\n",
       "<text dominant-baseline=\"central\" text-anchor=\"end\" font-family=\"monospace\" font-size=\"12\" x=\"64\" y=\"448\">q6</text>\n",
       "<path id=\"qubit_line:7\" d=\"M64,512 L832,512 \" stroke=\"black\"/>\n",
       "<text dominant-baseline=\"central\" text-anchor=\"end\" font-family=\"monospace\" font-size=\"12\" x=\"64\" y=\"512\">q7</text>\n",
       "<path id=\"qubit_line:8\" d=\"M64,576 L832,576 \" stroke=\"black\"/>\n",
       "<text dominant-baseline=\"central\" text-anchor=\"end\" font-family=\"monospace\" font-size=\"12\" x=\"64\" y=\"576\">q8</text>\n",
       "</g>\n",
       "<rect x=\"80\" y=\"48\" width=\"32\" height=\"32\" stroke=\"black\" fill=\"white\"/>\n",
       "<text dominant-baseline=\"central\" text-anchor=\"middle\" font-family=\"monospace\" font-size=\"30\" x=\"96\" y=\"64\">H</text>\n",
       "<rect x=\"80\" y=\"112\" width=\"32\" height=\"32\" stroke=\"black\" fill=\"white\"/>\n",
       "<text dominant-baseline=\"central\" text-anchor=\"middle\" font-family=\"monospace\" font-size=\"30\" x=\"96\" y=\"128\">H</text>\n",
       "<rect x=\"80\" y=\"176\" width=\"32\" height=\"32\" stroke=\"black\" fill=\"white\"/>\n",
       "<text dominant-baseline=\"central\" text-anchor=\"middle\" font-family=\"monospace\" font-size=\"30\" x=\"96\" y=\"192\">H</text>\n",
       "<rect x=\"80\" y=\"240\" width=\"32\" height=\"32\" stroke=\"black\" fill=\"white\"/>\n",
       "<text dominant-baseline=\"central\" text-anchor=\"middle\" font-family=\"monospace\" font-size=\"30\" x=\"96\" y=\"256\">H</text>\n",
       "<rect x=\"80\" y=\"304\" width=\"32\" height=\"32\" stroke=\"black\" fill=\"white\"/>\n",
       "<text dominant-baseline=\"central\" text-anchor=\"middle\" font-family=\"monospace\" font-size=\"30\" x=\"96\" y=\"320\">H</text>\n",
       "<path d=\"M160,64 L160,448 \" stroke=\"black\"/>\n",
       "<circle cx=\"160\" cy=\"64\" r=\"12\" stroke=\"none\" fill=\"black\"/>\n",
       "<circle cx=\"160\" cy=\"448\" r=\"12\" stroke=\"black\" fill=\"white\"/>\n",
       "<path d=\"M148,448 L172,448 M160,436 L160,460 \" stroke=\"black\"/>\n",
       "<path d=\"M224,64 L224,512 \" stroke=\"black\"/>\n",
       "<circle cx=\"224\" cy=\"64\" r=\"12\" stroke=\"none\" fill=\"black\"/>\n",
       "<circle cx=\"224\" cy=\"512\" r=\"12\" stroke=\"black\" fill=\"white\"/>\n",
       "<path d=\"M212,512 L236,512 M224,500 L224,524 \" stroke=\"black\"/>\n",
       "<path d=\"M288,128 L288,384 \" stroke=\"black\"/>\n",
       "<circle cx=\"288\" cy=\"128\" r=\"12\" stroke=\"none\" fill=\"black\"/>\n",
       "<circle cx=\"288\" cy=\"384\" r=\"12\" stroke=\"black\" fill=\"white\"/>\n",
       "<path d=\"M276,384 L300,384 M288,372 L288,396 \" stroke=\"black\"/>\n",
       "<path d=\"M352,128 L352,448 \" stroke=\"black\"/>\n",
       "<circle cx=\"352\" cy=\"128\" r=\"12\" stroke=\"none\" fill=\"black\"/>\n",
       "<circle cx=\"352\" cy=\"448\" r=\"12\" stroke=\"black\" fill=\"white\"/>\n",
       "<path d=\"M340,448 L364,448 M352,436 L352,460 \" stroke=\"black\"/>\n",
       "<path d=\"M416,192 L416,384 \" stroke=\"black\"/>\n",
       "<circle cx=\"416\" cy=\"192\" r=\"12\" stroke=\"none\" fill=\"black\"/>\n",
       "<circle cx=\"416\" cy=\"384\" r=\"12\" stroke=\"none\" fill=\"black\"/>\n",
       "<path d=\"M480,192 L480,448 \" stroke=\"black\"/>\n",
       "<circle cx=\"480\" cy=\"192\" r=\"12\" stroke=\"none\" fill=\"black\"/>\n",
       "<circle cx=\"480\" cy=\"448\" r=\"12\" stroke=\"none\" fill=\"black\"/>\n",
       "<path d=\"M544,256 L544,384 \" stroke=\"black\"/>\n",
       "<circle cx=\"544\" cy=\"256\" r=\"12\" stroke=\"none\" fill=\"black\"/>\n",
       "<circle cx=\"544\" cy=\"384\" r=\"12\" stroke=\"none\" fill=\"black\"/>\n",
       "<path d=\"M608,256 L608,512 \" stroke=\"black\"/>\n",
       "<circle cx=\"608\" cy=\"256\" r=\"12\" stroke=\"none\" fill=\"black\"/>\n",
       "<circle cx=\"608\" cy=\"512\" r=\"12\" stroke=\"none\" fill=\"black\"/>\n",
       "<path d=\"M672,320 L672,576 \" stroke=\"black\"/>\n",
       "<circle cx=\"672\" cy=\"320\" r=\"12\" stroke=\"none\" fill=\"black\"/>\n",
       "<path d=\"M672,592.8 L657.451,567.6 L686.549,567.6 Z\" stroke=\"black\" fill=\"gray\"/>\n",
       "<rect x=\"720\" y=\"304\" width=\"32\" height=\"32\" stroke=\"black\" fill=\"white\"/>\n",
       "<text dominant-baseline=\"central\" text-anchor=\"middle\" font-family=\"monospace\" font-size=\"30\" x=\"736\" y=\"320\">S</text>\n",
       "<path d=\"M736,64 L736,256 \" stroke=\"black\"/>\n",
       "<circle cx=\"736\" cy=\"64\" r=\"12\" stroke=\"none\" fill=\"black\"/>\n",
       "<circle cx=\"736\" cy=\"256\" r=\"12\" stroke=\"none\" fill=\"black\"/>\n",
       "<path d=\"M800,128 L800,192 \" stroke=\"black\"/>\n",
       "<circle cx=\"800\" cy=\"128\" r=\"12\" stroke=\"none\" fill=\"black\"/>\n",
       "<circle cx=\"800\" cy=\"192\" r=\"12\" stroke=\"none\" fill=\"black\"/>\n",
       "</svg>"
      ],
      "text/plain": [
       "<svg viewBox=\"0 0 864 672\"  version=\"1.1\" xmlns=\"http://www.w3.org/2000/svg\">\n",
       "<g id=\"qubit_lines\">\n",
       "<path id=\"qubit_line:0\" d=\"M64,64 L832,64 \" stroke=\"black\"/>\n",
       "<text dominant-baseline=\"central\" text-anchor=\"end\" font-family=\"monospace\" font-size=\"12\" x=\"64\" y=\"64\">q0</text>\n",
       "<path id=\"qubit_line:1\" d=\"M64,128 L832,128 \" stroke=\"black\"/>\n",
       "<text dominant-baseline=\"central\" text-anchor=\"end\" font-family=\"monospace\" font-size=\"12\" x=\"64\" y=\"128\">q1</text>\n",
       "<path id=\"qubit_line:2\" d=\"M64,192 L832,192 \" stroke=\"black\"/>\n",
       "<text dominant-baseline=\"central\" text-anchor=\"end\" font-family=\"monospace\" font-size=\"12\" x=\"64\" y=\"192\">q2</text>\n",
       "<path id=\"qubit_line:3\" d=\"M64,256 L832,256 \" stroke=\"black\"/>\n",
       "<text dominant-baseline=\"central\" text-anchor=\"end\" font-family=\"monospace\" font-size=\"12\" x=\"64\" y=\"256\">q3</text>\n",
       "<path id=\"qubit_line:4\" d=\"M64,320 L832,320 \" stroke=\"black\"/>\n",
       "<text dominant-baseline=\"central\" text-anchor=\"end\" font-family=\"monospace\" font-size=\"12\" x=\"64\" y=\"320\">q4</text>\n",
       "<path id=\"qubit_line:5\" d=\"M64,384 L832,384 \" stroke=\"black\"/>\n",
       "<text dominant-baseline=\"central\" text-anchor=\"end\" font-family=\"monospace\" font-size=\"12\" x=\"64\" y=\"384\">q5</text>\n",
       "<path id=\"qubit_line:6\" d=\"M64,448 L832,448 \" stroke=\"black\"/>\n",
       "<text dominant-baseline=\"central\" text-anchor=\"end\" font-family=\"monospace\" font-size=\"12\" x=\"64\" y=\"448\">q6</text>\n",
       "<path id=\"qubit_line:7\" d=\"M64,512 L832,512 \" stroke=\"black\"/>\n",
       "<text dominant-baseline=\"central\" text-anchor=\"end\" font-family=\"monospace\" font-size=\"12\" x=\"64\" y=\"512\">q7</text>\n",
       "<path id=\"qubit_line:8\" d=\"M64,576 L832,576 \" stroke=\"black\"/>\n",
       "<text dominant-baseline=\"central\" text-anchor=\"end\" font-family=\"monospace\" font-size=\"12\" x=\"64\" y=\"576\">q8</text>\n",
       "</g>\n",
       "<rect x=\"80\" y=\"48\" width=\"32\" height=\"32\" stroke=\"black\" fill=\"white\"/>\n",
       "<text dominant-baseline=\"central\" text-anchor=\"middle\" font-family=\"monospace\" font-size=\"30\" x=\"96\" y=\"64\">H</text>\n",
       "<rect x=\"80\" y=\"112\" width=\"32\" height=\"32\" stroke=\"black\" fill=\"white\"/>\n",
       "<text dominant-baseline=\"central\" text-anchor=\"middle\" font-family=\"monospace\" font-size=\"30\" x=\"96\" y=\"128\">H</text>\n",
       "<rect x=\"80\" y=\"176\" width=\"32\" height=\"32\" stroke=\"black\" fill=\"white\"/>\n",
       "<text dominant-baseline=\"central\" text-anchor=\"middle\" font-family=\"monospace\" font-size=\"30\" x=\"96\" y=\"192\">H</text>\n",
       "<rect x=\"80\" y=\"240\" width=\"32\" height=\"32\" stroke=\"black\" fill=\"white\"/>\n",
       "<text dominant-baseline=\"central\" text-anchor=\"middle\" font-family=\"monospace\" font-size=\"30\" x=\"96\" y=\"256\">H</text>\n",
       "<rect x=\"80\" y=\"304\" width=\"32\" height=\"32\" stroke=\"black\" fill=\"white\"/>\n",
       "<text dominant-baseline=\"central\" text-anchor=\"middle\" font-family=\"monospace\" font-size=\"30\" x=\"96\" y=\"320\">H</text>\n",
       "<path d=\"M160,64 L160,448 \" stroke=\"black\"/>\n",
       "<circle cx=\"160\" cy=\"64\" r=\"12\" stroke=\"none\" fill=\"black\"/>\n",
       "<circle cx=\"160\" cy=\"448\" r=\"12\" stroke=\"black\" fill=\"white\"/>\n",
       "<path d=\"M148,448 L172,448 M160,436 L160,460 \" stroke=\"black\"/>\n",
       "<path d=\"M224,64 L224,512 \" stroke=\"black\"/>\n",
       "<circle cx=\"224\" cy=\"64\" r=\"12\" stroke=\"none\" fill=\"black\"/>\n",
       "<circle cx=\"224\" cy=\"512\" r=\"12\" stroke=\"black\" fill=\"white\"/>\n",
       "<path d=\"M212,512 L236,512 M224,500 L224,524 \" stroke=\"black\"/>\n",
       "<path d=\"M288,128 L288,384 \" stroke=\"black\"/>\n",
       "<circle cx=\"288\" cy=\"128\" r=\"12\" stroke=\"none\" fill=\"black\"/>\n",
       "<circle cx=\"288\" cy=\"384\" r=\"12\" stroke=\"black\" fill=\"white\"/>\n",
       "<path d=\"M276,384 L300,384 M288,372 L288,396 \" stroke=\"black\"/>\n",
       "<path d=\"M352,128 L352,448 \" stroke=\"black\"/>\n",
       "<circle cx=\"352\" cy=\"128\" r=\"12\" stroke=\"none\" fill=\"black\"/>\n",
       "<circle cx=\"352\" cy=\"448\" r=\"12\" stroke=\"black\" fill=\"white\"/>\n",
       "<path d=\"M340,448 L364,448 M352,436 L352,460 \" stroke=\"black\"/>\n",
       "<path d=\"M416,192 L416,384 \" stroke=\"black\"/>\n",
       "<circle cx=\"416\" cy=\"192\" r=\"12\" stroke=\"none\" fill=\"black\"/>\n",
       "<circle cx=\"416\" cy=\"384\" r=\"12\" stroke=\"none\" fill=\"black\"/>\n",
       "<path d=\"M480,192 L480,448 \" stroke=\"black\"/>\n",
       "<circle cx=\"480\" cy=\"192\" r=\"12\" stroke=\"none\" fill=\"black\"/>\n",
       "<circle cx=\"480\" cy=\"448\" r=\"12\" stroke=\"none\" fill=\"black\"/>\n",
       "<path d=\"M544,256 L544,384 \" stroke=\"black\"/>\n",
       "<circle cx=\"544\" cy=\"256\" r=\"12\" stroke=\"none\" fill=\"black\"/>\n",
       "<circle cx=\"544\" cy=\"384\" r=\"12\" stroke=\"none\" fill=\"black\"/>\n",
       "<path d=\"M608,256 L608,512 \" stroke=\"black\"/>\n",
       "<circle cx=\"608\" cy=\"256\" r=\"12\" stroke=\"none\" fill=\"black\"/>\n",
       "<circle cx=\"608\" cy=\"512\" r=\"12\" stroke=\"none\" fill=\"black\"/>\n",
       "<path d=\"M672,320 L672,576 \" stroke=\"black\"/>\n",
       "<circle cx=\"672\" cy=\"320\" r=\"12\" stroke=\"none\" fill=\"black\"/>\n",
       "<path d=\"M672,592.8 L657.451,567.6 L686.549,567.6 Z\" stroke=\"black\" fill=\"gray\"/>\n",
       "<rect x=\"720\" y=\"304\" width=\"32\" height=\"32\" stroke=\"black\" fill=\"white\"/>\n",
       "<text dominant-baseline=\"central\" text-anchor=\"middle\" font-family=\"monospace\" font-size=\"30\" x=\"736\" y=\"320\">S</text>\n",
       "<path d=\"M736,64 L736,256 \" stroke=\"black\"/>\n",
       "<circle cx=\"736\" cy=\"64\" r=\"12\" stroke=\"none\" fill=\"black\"/>\n",
       "<circle cx=\"736\" cy=\"256\" r=\"12\" stroke=\"none\" fill=\"black\"/>\n",
       "<path d=\"M800,128 L800,192 \" stroke=\"black\"/>\n",
       "<circle cx=\"800\" cy=\"128\" r=\"12\" stroke=\"none\" fill=\"black\"/>\n",
       "<circle cx=\"800\" cy=\"192\" r=\"12\" stroke=\"none\" fill=\"black\"/>\n",
       "</svg>"
      ]
     },
     "execution_count": 16,
     "metadata": {},
     "output_type": "execute_result"
    }
   ],
   "source": [
    "def make_circuit_protocol_separable(B, stab_clean):\n",
    "    N= len(B)\n",
    "    n = len(B[0])//2\n",
    "    protocol = Circuit()\n",
    "    for i in range(N):\n",
    "        protocol.append('H', i)\n",
    "    for i in range(N):\n",
    "        for j in range(n):\n",
    "            x,z = B[i][j], B[i][j+n]\n",
    "            if (x,z) == (1,0):\n",
    "                protocol.append('CX', (i,N+j))\n",
    "            if (x,z) == (0,1):\n",
    "                protocol.append('CZ', (i,N+j))\n",
    "            if (x,z) == (1,1):\n",
    "                protocol.append('CY', (i,N+j))\n",
    "    for i in range(N):\n",
    "        if stab_clean[i][i+N] == 1:\n",
    "            protocol.append('S', i)\n",
    "    for i in range(N):\n",
    "        for j in range(i+1,N):\n",
    "            if stab_clean[i][N+ j]==1:\n",
    "                protocol.append('CZ', (i,j))\n",
    "    return protocol\n",
    "\n",
    "print('Optimal circuit with separable measurements:')\n",
    "\n",
    "separable_circ = make_circuit_protocol_separable(B, stab_clean)\n",
    "separable_circ.diagram('timeline-svg')"
   ]
  },
  {
   "cell_type": "markdown",
   "id": "9d20105c",
   "metadata": {},
   "source": [
    "Again, lets simulate the scenario where alice chooses to implement the identity. Here she will measure her qubits in the $Z$ basis. "
   ]
  },
  {
   "cell_type": "code",
   "execution_count": 17,
   "id": "d4cfc0ba",
   "metadata": {},
   "outputs": [
    {
     "name": "stdout",
     "output_type": "stream",
     "text": [
      "measurement_results:\t[True, True, False, False, False]\n",
      "Final state\n",
      "-Z________\n",
      "-_Z_______\n",
      "+__Z______\n",
      "+___Z_____\n",
      "+____Z____\n",
      "+_____X___\n",
      "+______Y__\n",
      "-_______Z_\n",
      "+________Z\n"
     ]
    }
   ],
   "source": [
    "total_circ = Circuit()\n",
    "total_circ += prepare\n",
    "total_circ += make_circuit_protocol_separable(B, stab_clean)\n",
    "\n",
    "total_circ.diagram()\n",
    "\n",
    "sim = TableauSimulator()\n",
    "sim.do(total_circ)\n",
    "\n",
    "measurement_basis = [PauliString( 'I'*i +'Z'+ 'I'*(N-n-1)) for i in range(N) ] #measuring in Z basis for identity\n",
    "\n",
    "measurement_results= []\n",
    "for P in measurement_basis:\n",
    "    result = sim.measure_observable(P)\n",
    "    measurement_results.append(result)\n",
    "\n",
    "    \n",
    "print(f'measurement_results:\\t{measurement_results}')\n",
    "print('Final state')\n",
    "for stab in sim.canonical_stabilizers():\n",
    "    print(stab)"
   ]
  },
  {
   "cell_type": "markdown",
   "id": "a12b2080",
   "metadata": {},
   "source": [
    "As expected, the state is unchanged up to signs of stabilizers.\n",
    " \n",
    "Let's now measure in the $X$ basis."
   ]
  },
  {
   "cell_type": "code",
   "execution_count": 18,
   "id": "caa1345e",
   "metadata": {},
   "outputs": [
    {
     "name": "stdout",
     "output_type": "stream",
     "text": [
      "measurement_results:\t[False, False, False, True, True]\n",
      "Final state\n",
      "+X________\n",
      "+_X_______\n",
      "+__X______\n",
      "-___X_____\n",
      "-____X____\n",
      "-_____Z___\n",
      "+______X__\n",
      "-_______Y_\n",
      "+________X\n"
     ]
    }
   ],
   "source": [
    "total_circ = Circuit()\n",
    "total_circ += prepare\n",
    "total_circ += make_circuit_protocol_separable(B, stab_clean)\n",
    "\n",
    "sim = TableauSimulator()\n",
    "sim.do(total_circ)\n",
    "\n",
    "measurement_basis = [PauliString( 'I'*i +'X'+ 'I'*(N-n-1)) for i in range(N) ] #measuring in X basis for desired gate\n",
    "\n",
    "measurement_results= []\n",
    "for P in measurement_basis:\n",
    "    result = sim.measure_observable(P)\n",
    "    measurement_results.append(result)\n",
    "print(f'measurement_results:\\t{measurement_results}')\n",
    "print('Final state')\n",
    "for stab in sim.canonical_stabilizers():\n",
    "    print(stab)"
   ]
  },
  {
   "cell_type": "markdown",
   "id": "f0978381",
   "metadata": {},
   "source": [
    "As desired, $\\ket{\\psi}$ is acted on by $C$.\n",
    "\n",
    "If you would like to experiment with different optimal protocols for different Clifford gates. Below is the compact version of this process that accepts any qiskit circuit comprising of Clifford gates, and outputs an optimal protocol, both in the non-separable stabilizer setting, and in the separable."
   ]
  },
  {
   "cell_type": "code",
   "execution_count": 19,
   "id": "9b8d7dfb",
   "metadata": {},
   "outputs": [
    {
     "data": {
      "image/png": "[encoded data removed]",
      "text/plain": [
       "<Figure size 454.719x284.278 with 1 Axes>"
      ]
     },
     "execution_count": 19,
     "metadata": {},
     "output_type": "execute_result"
    }
   ],
   "source": [
    "#Define qiskit Clifford circuit here:\n",
    "num_qubits = 3\n",
    "num_gates = 5\n",
    "U = random_clifford_circuit(num_qubits , num_gates )\n",
    "\n",
    "U.draw(output='mpl')"
   ]
  },
  {
   "cell_type": "code",
   "execution_count": 20,
   "id": "21b2ed00",
   "metadata": {},
   "outputs": [
    {
     "name": "stdout",
     "output_type": "stream",
     "text": [
      "Basis to measure in for U:\n",
      "YIX\n",
      "IYI\n",
      "XIZ\n",
      "Number of qubits of communication:\t3\n",
      "Optimal circuit:\n"
     ]
    },
    {
     "data": {
      "image/svg+xml": [
       "<svg viewBox=\"0 0 352 480\"  version=\"1.1\" xmlns=\"http://www.w3.org/2000/svg\">\n",
       "<g id=\"qubit_lines\">\n",
       "<path id=\"qubit_line:0\" d=\"M64,64 L320,64 \" stroke=\"black\"/>\n",
       "<text dominant-baseline=\"central\" text-anchor=\"end\" font-family=\"monospace\" font-size=\"12\" x=\"64\" y=\"64\">q0</text>\n",
       "<path id=\"qubit_line:1\" d=\"M64,128 L320,128 \" stroke=\"black\"/>\n",
       "<text dominant-baseline=\"central\" text-anchor=\"end\" font-family=\"monospace\" font-size=\"12\" x=\"64\" y=\"128\">q1</text>\n",
       "<path id=\"qubit_line:2\" d=\"M64,192 L320,192 \" stroke=\"black\"/>\n",
       "<text dominant-baseline=\"central\" text-anchor=\"end\" font-family=\"monospace\" font-size=\"12\" x=\"64\" y=\"192\">q2</text>\n",
       "<path id=\"qubit_line:3\" d=\"M64,256 L320,256 \" stroke=\"black\"/>\n",
       "<text dominant-baseline=\"central\" text-anchor=\"end\" font-family=\"monospace\" font-size=\"12\" x=\"64\" y=\"256\">q3</text>\n",
       "<path id=\"qubit_line:4\" d=\"M64,320 L320,320 \" stroke=\"black\"/>\n",
       "<text dominant-baseline=\"central\" text-anchor=\"end\" font-family=\"monospace\" font-size=\"12\" x=\"64\" y=\"320\">q4</text>\n",
       "<path id=\"qubit_line:5\" d=\"M64,384 L320,384 \" stroke=\"black\"/>\n",
       "<text dominant-baseline=\"central\" text-anchor=\"end\" font-family=\"monospace\" font-size=\"12\" x=\"64\" y=\"384\">q5</text>\n",
       "</g>\n",
       "<rect x=\"80\" y=\"48\" width=\"32\" height=\"32\" stroke=\"black\" fill=\"white\"/>\n",
       "<text dominant-baseline=\"central\" text-anchor=\"middle\" font-family=\"monospace\" font-size=\"30\" x=\"96\" y=\"64\">H</text>\n",
       "<rect x=\"80\" y=\"112\" width=\"32\" height=\"32\" stroke=\"black\" fill=\"white\"/>\n",
       "<text dominant-baseline=\"central\" text-anchor=\"middle\" font-family=\"monospace\" font-size=\"30\" x=\"96\" y=\"128\">H</text>\n",
       "<rect x=\"80\" y=\"176\" width=\"32\" height=\"32\" stroke=\"black\" fill=\"white\"/>\n",
       "<text dominant-baseline=\"central\" text-anchor=\"middle\" font-family=\"monospace\" font-size=\"30\" x=\"96\" y=\"192\">H</text>\n",
       "<path d=\"M160,64 L160,256 \" stroke=\"black\"/>\n",
       "<circle cx=\"160\" cy=\"64\" r=\"12\" stroke=\"none\" fill=\"black\"/>\n",
       "<circle cx=\"160\" cy=\"256\" r=\"12\" stroke=\"none\" fill=\"black\"/>\n",
       "<path d=\"M224,128 L224,320 \" stroke=\"black\"/>\n",
       "<circle cx=\"224\" cy=\"128\" r=\"12\" stroke=\"none\" fill=\"black\"/>\n",
       "<circle cx=\"224\" cy=\"320\" r=\"12\" stroke=\"none\" fill=\"black\"/>\n",
       "<path d=\"M288,192 L288,384 \" stroke=\"black\"/>\n",
       "<circle cx=\"288\" cy=\"192\" r=\"12\" stroke=\"none\" fill=\"black\"/>\n",
       "<circle cx=\"288\" cy=\"384\" r=\"12\" stroke=\"black\" fill=\"white\"/>\n",
       "<path d=\"M276,384 L300,384 M288,372 L288,396 \" stroke=\"black\"/>\n",
       "</svg>"
      ],
      "text/plain": [
       "<svg viewBox=\"0 0 352 480\"  version=\"1.1\" xmlns=\"http://www.w3.org/2000/svg\">\n",
       "<g id=\"qubit_lines\">\n",
       "<path id=\"qubit_line:0\" d=\"M64,64 L320,64 \" stroke=\"black\"/>\n",
       "<text dominant-baseline=\"central\" text-anchor=\"end\" font-family=\"monospace\" font-size=\"12\" x=\"64\" y=\"64\">q0</text>\n",
       "<path id=\"qubit_line:1\" d=\"M64,128 L320,128 \" stroke=\"black\"/>\n",
       "<text dominant-baseline=\"central\" text-anchor=\"end\" font-family=\"monospace\" font-size=\"12\" x=\"64\" y=\"128\">q1</text>\n",
       "<path id=\"qubit_line:2\" d=\"M64,192 L320,192 \" stroke=\"black\"/>\n",
       "<text dominant-baseline=\"central\" text-anchor=\"end\" font-family=\"monospace\" font-size=\"12\" x=\"64\" y=\"192\">q2</text>\n",
       "<path id=\"qubit_line:3\" d=\"M64,256 L320,256 \" stroke=\"black\"/>\n",
       "<text dominant-baseline=\"central\" text-anchor=\"end\" font-family=\"monospace\" font-size=\"12\" x=\"64\" y=\"256\">q3</text>\n",
       "<path id=\"qubit_line:4\" d=\"M64,320 L320,320 \" stroke=\"black\"/>\n",
       "<text dominant-baseline=\"central\" text-anchor=\"end\" font-family=\"monospace\" font-size=\"12\" x=\"64\" y=\"320\">q4</text>\n",
       "<path id=\"qubit_line:5\" d=\"M64,384 L320,384 \" stroke=\"black\"/>\n",
       "<text dominant-baseline=\"central\" text-anchor=\"end\" font-family=\"monospace\" font-size=\"12\" x=\"64\" y=\"384\">q5</text>\n",
       "</g>\n",
       "<rect x=\"80\" y=\"48\" width=\"32\" height=\"32\" stroke=\"black\" fill=\"white\"/>\n",
       "<text dominant-baseline=\"central\" text-anchor=\"middle\" font-family=\"monospace\" font-size=\"30\" x=\"96\" y=\"64\">H</text>\n",
       "<rect x=\"80\" y=\"112\" width=\"32\" height=\"32\" stroke=\"black\" fill=\"white\"/>\n",
       "<text dominant-baseline=\"central\" text-anchor=\"middle\" font-family=\"monospace\" font-size=\"30\" x=\"96\" y=\"128\">H</text>\n",
       "<rect x=\"80\" y=\"176\" width=\"32\" height=\"32\" stroke=\"black\" fill=\"white\"/>\n",
       "<text dominant-baseline=\"central\" text-anchor=\"middle\" font-family=\"monospace\" font-size=\"30\" x=\"96\" y=\"192\">H</text>\n",
       "<path d=\"M160,64 L160,256 \" stroke=\"black\"/>\n",
       "<circle cx=\"160\" cy=\"64\" r=\"12\" stroke=\"none\" fill=\"black\"/>\n",
       "<circle cx=\"160\" cy=\"256\" r=\"12\" stroke=\"none\" fill=\"black\"/>\n",
       "<path d=\"M224,128 L224,320 \" stroke=\"black\"/>\n",
       "<circle cx=\"224\" cy=\"128\" r=\"12\" stroke=\"none\" fill=\"black\"/>\n",
       "<circle cx=\"224\" cy=\"320\" r=\"12\" stroke=\"none\" fill=\"black\"/>\n",
       "<path d=\"M288,192 L288,384 \" stroke=\"black\"/>\n",
       "<circle cx=\"288\" cy=\"192\" r=\"12\" stroke=\"none\" fill=\"black\"/>\n",
       "<circle cx=\"288\" cy=\"384\" r=\"12\" stroke=\"black\" fill=\"white\"/>\n",
       "<path d=\"M276,384 L300,384 M288,372 L288,396 \" stroke=\"black\"/>\n",
       "</svg>"
      ]
     },
     "execution_count": 20,
     "metadata": {},
     "output_type": "execute_result"
    }
   ],
   "source": [
    "\n",
    "def nonseparable_protocol(U):\n",
    "    #returns Stim circuit, and measurement basis for F ={I,U}\n",
    "\n",
    "    n = U.num_qubits\n",
    "    symplectic_matrix =  get_symplectic( Clifford(U)) \n",
    "    M = (symplectic_matrix + np.eye(2*n))%2\n",
    "    P_f = kernel(M.T).toarray()\n",
    "\n",
    "    Omega = symplectic_form_matrix(n)\n",
    "    B = kernel(P_f @ Omega).toarray()\n",
    "    N = len(B)\n",
    "\n",
    "    optimal_circuit = make_circuit_protocol_entangled(B)\n",
    "    \n",
    "    V_st = get_v_st(B)\n",
    "\n",
    "    Omega = symplectic_form_matrix(3)\n",
    "\n",
    "    V_cliff = Clifford(V_st)\n",
    "    V_circ = V_cliff.to_circuit()\n",
    "\n",
    "    V_circ_dagger  = V_circ.inverse()\n",
    "\n",
    "    temp_U = U.copy()\n",
    "\n",
    "    if N >n:\n",
    "        temp_U.add_register(QuantumRegister(N-n)) # if N>n, we must \n",
    "\n",
    "    stab_circuit = V_circ_dagger\n",
    "    stab_circuit = stab_circuit.compose(temp_U)\n",
    "    stab_circuit = stab_circuit.compose(V_circ)\n",
    "\n",
    "    measurement_basis = []\n",
    "\n",
    "    for i in range(N):\n",
    "\n",
    "        Z_i = make_qiskit_pauli('I'*i + 'Z' + 'I'*(max(n,N)-i-1))\n",
    "        Z_i_new = Z_i.evolve(stab_circuit, frame='h')\n",
    "\n",
    "        stab_out, sign_out = label_from_qiskit_pauli(Z_i_new)\n",
    "        measurement_basis.append(pauli_str_to_vec(stab_out))\n",
    "        \n",
    "    measurement_basis = np.array(measurement_basis)\n",
    "\n",
    "    measurement_basis =[ vec_to_pauli_str(p)[:N] for p in measurement_basis]\n",
    "\n",
    "    return optimal_circuit, measurement_basis\n",
    "\n",
    "protocol, basis = nonseparable_protocol(U)\n",
    "\n",
    "print('Basis to measure in for U:')\n",
    "for P in basis:\n",
    "    print(P)\n",
    "\n",
    "print(f'Number of qubits of communication:\\t{protocol.num_qubits - U.num_qubits}\\nOptimal circuit:')\n",
    "\n",
    "protocol.diagram('timeline-svg')\n"
   ]
  },
  {
   "cell_type": "code",
   "execution_count": 21,
   "id": "935b359b",
   "metadata": {},
   "outputs": [
    {
     "name": "stdout",
     "output_type": "stream",
     "text": [
      "\n",
      "\n",
      "\n",
      "Optimal circuit:\n"
     ]
    },
    {
     "data": {
      "image/svg+xml": [
       "<svg viewBox=\"0 0 480 480\"  version=\"1.1\" xmlns=\"http://www.w3.org/2000/svg\">\n",
       "<g id=\"qubit_lines\">\n",
       "<path id=\"qubit_line:0\" d=\"M64,64 L448,64 \" stroke=\"black\"/>\n",
       "<text dominant-baseline=\"central\" text-anchor=\"end\" font-family=\"monospace\" font-size=\"12\" x=\"64\" y=\"64\">q0</text>\n",
       "<path id=\"qubit_line:1\" d=\"M64,128 L448,128 \" stroke=\"black\"/>\n",
       "<text dominant-baseline=\"central\" text-anchor=\"end\" font-family=\"monospace\" font-size=\"12\" x=\"64\" y=\"128\">q1</text>\n",
       "<path id=\"qubit_line:2\" d=\"M64,192 L448,192 \" stroke=\"black\"/>\n",
       "<text dominant-baseline=\"central\" text-anchor=\"end\" font-family=\"monospace\" font-size=\"12\" x=\"64\" y=\"192\">q2</text>\n",
       "<path id=\"qubit_line:3\" d=\"M64,256 L448,256 \" stroke=\"black\"/>\n",
       "<text dominant-baseline=\"central\" text-anchor=\"end\" font-family=\"monospace\" font-size=\"12\" x=\"64\" y=\"256\">q3</text>\n",
       "<path id=\"qubit_line:4\" d=\"M64,320 L448,320 \" stroke=\"black\"/>\n",
       "<text dominant-baseline=\"central\" text-anchor=\"end\" font-family=\"monospace\" font-size=\"12\" x=\"64\" y=\"320\">q4</text>\n",
       "<path id=\"qubit_line:5\" d=\"M64,384 L448,384 \" stroke=\"black\"/>\n",
       "<text dominant-baseline=\"central\" text-anchor=\"end\" font-family=\"monospace\" font-size=\"12\" x=\"64\" y=\"384\">q5</text>\n",
       "</g>\n",
       "<rect x=\"80\" y=\"48\" width=\"32\" height=\"32\" stroke=\"black\" fill=\"white\"/>\n",
       "<text dominant-baseline=\"central\" text-anchor=\"middle\" font-family=\"monospace\" font-size=\"30\" x=\"96\" y=\"64\">H</text>\n",
       "<rect x=\"80\" y=\"112\" width=\"32\" height=\"32\" stroke=\"black\" fill=\"white\"/>\n",
       "<text dominant-baseline=\"central\" text-anchor=\"middle\" font-family=\"monospace\" font-size=\"30\" x=\"96\" y=\"128\">H</text>\n",
       "<rect x=\"80\" y=\"176\" width=\"32\" height=\"32\" stroke=\"black\" fill=\"white\"/>\n",
       "<text dominant-baseline=\"central\" text-anchor=\"middle\" font-family=\"monospace\" font-size=\"30\" x=\"96\" y=\"192\">H</text>\n",
       "<path d=\"M160,64 L160,256 \" stroke=\"black\"/>\n",
       "<circle cx=\"160\" cy=\"64\" r=\"12\" stroke=\"none\" fill=\"black\"/>\n",
       "<circle cx=\"160\" cy=\"256\" r=\"12\" stroke=\"none\" fill=\"black\"/>\n",
       "<path d=\"M224,128 L224,320 \" stroke=\"black\"/>\n",
       "<circle cx=\"224\" cy=\"128\" r=\"12\" stroke=\"none\" fill=\"black\"/>\n",
       "<circle cx=\"224\" cy=\"320\" r=\"12\" stroke=\"none\" fill=\"black\"/>\n",
       "<path d=\"M288,192 L288,384 \" stroke=\"black\"/>\n",
       "<circle cx=\"288\" cy=\"192\" r=\"12\" stroke=\"none\" fill=\"black\"/>\n",
       "<circle cx=\"288\" cy=\"384\" r=\"12\" stroke=\"black\" fill=\"white\"/>\n",
       "<path d=\"M276,384 L300,384 M288,372 L288,396 \" stroke=\"black\"/>\n",
       "<rect x=\"272\" y=\"112\" width=\"32\" height=\"32\" stroke=\"black\" fill=\"white\"/>\n",
       "<text dominant-baseline=\"central\" text-anchor=\"middle\" font-family=\"monospace\" font-size=\"30\" x=\"288\" y=\"128\">S</text>\n",
       "<rect x=\"336\" y=\"176\" width=\"32\" height=\"32\" stroke=\"black\" fill=\"white\"/>\n",
       "<text dominant-baseline=\"central\" text-anchor=\"middle\" font-family=\"monospace\" font-size=\"30\" x=\"352\" y=\"192\">S</text>\n",
       "<path d=\"M416,64 L416,192 \" stroke=\"black\"/>\n",
       "<circle cx=\"416\" cy=\"64\" r=\"12\" stroke=\"none\" fill=\"black\"/>\n",
       "<circle cx=\"416\" cy=\"192\" r=\"12\" stroke=\"none\" fill=\"black\"/>\n",
       "</svg>"
      ],
      "text/plain": [
       "<svg viewBox=\"0 0 480 480\"  version=\"1.1\" xmlns=\"http://www.w3.org/2000/svg\">\n",
       "<g id=\"qubit_lines\">\n",
       "<path id=\"qubit_line:0\" d=\"M64,64 L448,64 \" stroke=\"black\"/>\n",
       "<text dominant-baseline=\"central\" text-anchor=\"end\" font-family=\"monospace\" font-size=\"12\" x=\"64\" y=\"64\">q0</text>\n",
       "<path id=\"qubit_line:1\" d=\"M64,128 L448,128 \" stroke=\"black\"/>\n",
       "<text dominant-baseline=\"central\" text-anchor=\"end\" font-family=\"monospace\" font-size=\"12\" x=\"64\" y=\"128\">q1</text>\n",
       "<path id=\"qubit_line:2\" d=\"M64,192 L448,192 \" stroke=\"black\"/>\n",
       "<text dominant-baseline=\"central\" text-anchor=\"end\" font-family=\"monospace\" font-size=\"12\" x=\"64\" y=\"192\">q2</text>\n",
       "<path id=\"qubit_line:3\" d=\"M64,256 L448,256 \" stroke=\"black\"/>\n",
       "<text dominant-baseline=\"central\" text-anchor=\"end\" font-family=\"monospace\" font-size=\"12\" x=\"64\" y=\"256\">q3</text>\n",
       "<path id=\"qubit_line:4\" d=\"M64,320 L448,320 \" stroke=\"black\"/>\n",
       "<text dominant-baseline=\"central\" text-anchor=\"end\" font-family=\"monospace\" font-size=\"12\" x=\"64\" y=\"320\">q4</text>\n",
       "<path id=\"qubit_line:5\" d=\"M64,384 L448,384 \" stroke=\"black\"/>\n",
       "<text dominant-baseline=\"central\" text-anchor=\"end\" font-family=\"monospace\" font-size=\"12\" x=\"64\" y=\"384\">q5</text>\n",
       "</g>\n",
       "<rect x=\"80\" y=\"48\" width=\"32\" height=\"32\" stroke=\"black\" fill=\"white\"/>\n",
       "<text dominant-baseline=\"central\" text-anchor=\"middle\" font-family=\"monospace\" font-size=\"30\" x=\"96\" y=\"64\">H</text>\n",
       "<rect x=\"80\" y=\"112\" width=\"32\" height=\"32\" stroke=\"black\" fill=\"white\"/>\n",
       "<text dominant-baseline=\"central\" text-anchor=\"middle\" font-family=\"monospace\" font-size=\"30\" x=\"96\" y=\"128\">H</text>\n",
       "<rect x=\"80\" y=\"176\" width=\"32\" height=\"32\" stroke=\"black\" fill=\"white\"/>\n",
       "<text dominant-baseline=\"central\" text-anchor=\"middle\" font-family=\"monospace\" font-size=\"30\" x=\"96\" y=\"192\">H</text>\n",
       "<path d=\"M160,64 L160,256 \" stroke=\"black\"/>\n",
       "<circle cx=\"160\" cy=\"64\" r=\"12\" stroke=\"none\" fill=\"black\"/>\n",
       "<circle cx=\"160\" cy=\"256\" r=\"12\" stroke=\"none\" fill=\"black\"/>\n",
       "<path d=\"M224,128 L224,320 \" stroke=\"black\"/>\n",
       "<circle cx=\"224\" cy=\"128\" r=\"12\" stroke=\"none\" fill=\"black\"/>\n",
       "<circle cx=\"224\" cy=\"320\" r=\"12\" stroke=\"none\" fill=\"black\"/>\n",
       "<path d=\"M288,192 L288,384 \" stroke=\"black\"/>\n",
       "<circle cx=\"288\" cy=\"192\" r=\"12\" stroke=\"none\" fill=\"black\"/>\n",
       "<circle cx=\"288\" cy=\"384\" r=\"12\" stroke=\"black\" fill=\"white\"/>\n",
       "<path d=\"M276,384 L300,384 M288,372 L288,396 \" stroke=\"black\"/>\n",
       "<rect x=\"272\" y=\"112\" width=\"32\" height=\"32\" stroke=\"black\" fill=\"white\"/>\n",
       "<text dominant-baseline=\"central\" text-anchor=\"middle\" font-family=\"monospace\" font-size=\"30\" x=\"288\" y=\"128\">S</text>\n",
       "<rect x=\"336\" y=\"176\" width=\"32\" height=\"32\" stroke=\"black\" fill=\"white\"/>\n",
       "<text dominant-baseline=\"central\" text-anchor=\"middle\" font-family=\"monospace\" font-size=\"30\" x=\"352\" y=\"192\">S</text>\n",
       "<path d=\"M416,64 L416,192 \" stroke=\"black\"/>\n",
       "<circle cx=\"416\" cy=\"64\" r=\"12\" stroke=\"none\" fill=\"black\"/>\n",
       "<circle cx=\"416\" cy=\"192\" r=\"12\" stroke=\"none\" fill=\"black\"/>\n",
       "</svg>"
      ]
     },
     "execution_count": 21,
     "metadata": {},
     "output_type": "execute_result"
    }
   ],
   "source": [
    "def separable_protocol(U):\n",
    "    #returns Stim circuit, for F ={I,U}\n",
    "\n",
    "    n = U.num_qubits\n",
    "    symplectic_matrix =  get_symplectic( Clifford(U)) \n",
    "    M = (symplectic_matrix + np.eye(2*n))%2\n",
    "    P_f = kernel(M.T).toarray()\n",
    "\n",
    "    Omega = symplectic_form_matrix(n)\n",
    "    B = kernel(P_f @ Omega).toarray()\n",
    "    N = len(B)\n",
    "    \n",
    "    V_st = get_v_st(B)\n",
    "\n",
    "\n",
    "    V_cliff = Clifford(V_st)\n",
    "    V_circ = V_cliff.to_circuit()\n",
    "\n",
    "    V_circ_dagger  = V_circ.inverse()\n",
    "\n",
    "    temp_U = U.copy()\n",
    "\n",
    "    if N >n:\n",
    "        temp_U.add_register(QuantumRegister(N-n)) # if N>n, we must \n",
    "\n",
    "    stab_circuit = V_circ_dagger\n",
    "    stab_circuit = stab_circuit.compose(temp_U)\n",
    "    stab_circuit = stab_circuit.compose(V_circ)\n",
    "\n",
    "    measurement_basis = []\n",
    "\n",
    "    for i in range(N):\n",
    "\n",
    "        Z_i = make_qiskit_pauli('I'*i + 'Z' + 'I'*(max(n,N)-i-1))\n",
    "        Z_i_new = Z_i.evolve(stab_circuit, frame='h')\n",
    "\n",
    "        stab_out, sign_out = label_from_qiskit_pauli(Z_i_new)\n",
    "        print()\n",
    "        measurement_basis.append(pauli_str_to_vec(stab_out[:N]))\n",
    "        \n",
    "    measurement_basis = np.array(measurement_basis)\n",
    "\n",
    "    stab_clean,_ ,_ ,_ = reduced_row_echelon( measurement_basis )\n",
    "\n",
    "    circuit = make_circuit_protocol_separable(B, stab_clean)\n",
    "    return circuit\n",
    "\n",
    "protocol = separable_protocol(U)\n",
    "\n",
    "print('Optimal circuit:')\n",
    "protocol.diagram('timeline-svg')\n"
   ]
  },
  {
   "cell_type": "code",
   "execution_count": 22,
   "id": "f35255ab",
   "metadata": {},
   "outputs": [
    {
     "data": {
      "text/plain": [
       "array([0., 0., 0., 1., 0., 0., 0., 0.])"
      ]
     },
     "execution_count": 22,
     "metadata": {},
     "output_type": "execute_result"
    }
   ],
   "source": []
  }
 ],
 "metadata": {
  "kernelspec": {
   "display_name": "Python 3 (ipykernel)",
   "language": "python",
   "name": "python3"
  },
  "language_info": {
   "codemirror_mode": {
    "name": "ipython",
    "version": 3
   },
   "file_extension": ".py",
   "mimetype": "text/x-python",
   "name": "python",
   "nbconvert_exporter": "python",
   "pygments_lexer": "ipython3",
   "version": "3.11.5"
  }
 },
 "nbformat": 4,
 "nbformat_minor": 5
}
